{
 "cells": [
  {
   "cell_type": "code",
   "execution_count": 1,
   "id": "a9538e5b",
   "metadata": {
    "_cell_guid": "b1076dfc-b9ad-4769-8c92-a6c4dae69d19",
    "_uuid": "8f2839f25d086af736a60e9eeb907d3b93b6e0e5",
    "execution": {
     "iopub.execute_input": "2022-01-23T05:37:03.709366Z",
     "iopub.status.busy": "2022-01-23T05:37:03.700910Z",
     "iopub.status.idle": "2022-01-23T05:37:03.718048Z",
     "shell.execute_reply": "2022-01-23T05:37:03.717246Z",
     "shell.execute_reply.started": "2022-01-23T05:20:56.69825Z"
    },
    "papermill": {
     "duration": 0.029972,
     "end_time": "2022-01-23T05:37:03.718220",
     "exception": false,
     "start_time": "2022-01-23T05:37:03.688248",
     "status": "completed"
    },
    "tags": []
   },
   "outputs": [
    {
     "name": "stdout",
     "output_type": "stream",
     "text": [
      "/kaggle/input/titanic/train.csv\n",
      "/kaggle/input/titanic/test.csv\n",
      "/kaggle/input/titanic/gender_submission.csv\n"
     ]
    }
   ],
   "source": [
    "# This Python 3 environment comes with many helpful analytics libraries installed\n",
    "# It is defined by the kaggle/python Docker image: https://github.com/kaggle/docker-python\n",
    "# For example, here's several helpful packages to load\n",
    "\n",
    "import numpy as np # linear algebra\n",
    "import pandas as pd # data processing, CSV file I/O (e.g. pd.read_csv)\n",
    "\n",
    "# Input data files are available in the read-only \"../input/\" directory\n",
    "# For example, running this (by clicking run or pressing Shift+Enter) will list all files under the input directory\n",
    "\n",
    "import os\n",
    "for dirname, _, filenames in os.walk('/kaggle/input'):\n",
    "    for filename in filenames:\n",
    "        print(os.path.join(dirname, filename))\n",
    "\n",
    "# You can write up to 20GB to the current directory (/kaggle/working/) that gets preserved as output when you create a version using \"Save & Run All\" \n",
    "# You can also write temporary files to /kaggle/temp/, but they won't be saved outside of the current session"
   ]
  },
  {
   "cell_type": "code",
   "execution_count": 2,
   "id": "7d2739dc",
   "metadata": {
    "execution": {
     "iopub.execute_input": "2022-01-23T05:37:03.739518Z",
     "iopub.status.busy": "2022-01-23T05:37:03.738751Z",
     "iopub.status.idle": "2022-01-23T05:37:03.818950Z",
     "shell.execute_reply": "2022-01-23T05:37:03.819492Z",
     "shell.execute_reply.started": "2022-01-23T05:22:45.179527Z"
    },
    "papermill": {
     "duration": 0.09217,
     "end_time": "2022-01-23T05:37:03.819668",
     "exception": false,
     "start_time": "2022-01-23T05:37:03.727498",
     "status": "completed"
    },
    "tags": []
   },
   "outputs": [
    {
     "data": {
      "text/html": [
       "<div>\n",
       "<style scoped>\n",
       "    .dataframe tbody tr th:only-of-type {\n",
       "        vertical-align: middle;\n",
       "    }\n",
       "\n",
       "    .dataframe tbody tr th {\n",
       "        vertical-align: top;\n",
       "    }\n",
       "\n",
       "    .dataframe thead th {\n",
       "        text-align: right;\n",
       "    }\n",
       "</style>\n",
       "<table border=\"1\" class=\"dataframe\">\n",
       "  <thead>\n",
       "    <tr style=\"text-align: right;\">\n",
       "      <th></th>\n",
       "      <th>PassengerId</th>\n",
       "      <th>Survived</th>\n",
       "      <th>Pclass</th>\n",
       "      <th>Age</th>\n",
       "      <th>SibSp</th>\n",
       "      <th>Parch</th>\n",
       "      <th>Fare</th>\n",
       "    </tr>\n",
       "  </thead>\n",
       "  <tbody>\n",
       "    <tr>\n",
       "      <th>count</th>\n",
       "      <td>891.000000</td>\n",
       "      <td>891.000000</td>\n",
       "      <td>891.000000</td>\n",
       "      <td>714.000000</td>\n",
       "      <td>891.000000</td>\n",
       "      <td>891.000000</td>\n",
       "      <td>891.000000</td>\n",
       "    </tr>\n",
       "    <tr>\n",
       "      <th>mean</th>\n",
       "      <td>446.000000</td>\n",
       "      <td>0.383838</td>\n",
       "      <td>2.308642</td>\n",
       "      <td>29.699118</td>\n",
       "      <td>0.523008</td>\n",
       "      <td>0.381594</td>\n",
       "      <td>32.204208</td>\n",
       "    </tr>\n",
       "    <tr>\n",
       "      <th>std</th>\n",
       "      <td>257.353842</td>\n",
       "      <td>0.486592</td>\n",
       "      <td>0.836071</td>\n",
       "      <td>14.526497</td>\n",
       "      <td>1.102743</td>\n",
       "      <td>0.806057</td>\n",
       "      <td>49.693429</td>\n",
       "    </tr>\n",
       "    <tr>\n",
       "      <th>min</th>\n",
       "      <td>1.000000</td>\n",
       "      <td>0.000000</td>\n",
       "      <td>1.000000</td>\n",
       "      <td>0.420000</td>\n",
       "      <td>0.000000</td>\n",
       "      <td>0.000000</td>\n",
       "      <td>0.000000</td>\n",
       "    </tr>\n",
       "    <tr>\n",
       "      <th>25%</th>\n",
       "      <td>223.500000</td>\n",
       "      <td>0.000000</td>\n",
       "      <td>2.000000</td>\n",
       "      <td>20.125000</td>\n",
       "      <td>0.000000</td>\n",
       "      <td>0.000000</td>\n",
       "      <td>7.910400</td>\n",
       "    </tr>\n",
       "    <tr>\n",
       "      <th>50%</th>\n",
       "      <td>446.000000</td>\n",
       "      <td>0.000000</td>\n",
       "      <td>3.000000</td>\n",
       "      <td>28.000000</td>\n",
       "      <td>0.000000</td>\n",
       "      <td>0.000000</td>\n",
       "      <td>14.454200</td>\n",
       "    </tr>\n",
       "    <tr>\n",
       "      <th>75%</th>\n",
       "      <td>668.500000</td>\n",
       "      <td>1.000000</td>\n",
       "      <td>3.000000</td>\n",
       "      <td>38.000000</td>\n",
       "      <td>1.000000</td>\n",
       "      <td>0.000000</td>\n",
       "      <td>31.000000</td>\n",
       "    </tr>\n",
       "    <tr>\n",
       "      <th>max</th>\n",
       "      <td>891.000000</td>\n",
       "      <td>1.000000</td>\n",
       "      <td>3.000000</td>\n",
       "      <td>80.000000</td>\n",
       "      <td>8.000000</td>\n",
       "      <td>6.000000</td>\n",
       "      <td>512.329200</td>\n",
       "    </tr>\n",
       "  </tbody>\n",
       "</table>\n",
       "</div>"
      ],
      "text/plain": [
       "       PassengerId    Survived      Pclass         Age       SibSp  \\\n",
       "count   891.000000  891.000000  891.000000  714.000000  891.000000   \n",
       "mean    446.000000    0.383838    2.308642   29.699118    0.523008   \n",
       "std     257.353842    0.486592    0.836071   14.526497    1.102743   \n",
       "min       1.000000    0.000000    1.000000    0.420000    0.000000   \n",
       "25%     223.500000    0.000000    2.000000   20.125000    0.000000   \n",
       "50%     446.000000    0.000000    3.000000   28.000000    0.000000   \n",
       "75%     668.500000    1.000000    3.000000   38.000000    1.000000   \n",
       "max     891.000000    1.000000    3.000000   80.000000    8.000000   \n",
       "\n",
       "            Parch        Fare  \n",
       "count  891.000000  891.000000  \n",
       "mean     0.381594   32.204208  \n",
       "std      0.806057   49.693429  \n",
       "min      0.000000    0.000000  \n",
       "25%      0.000000    7.910400  \n",
       "50%      0.000000   14.454200  \n",
       "75%      0.000000   31.000000  \n",
       "max      6.000000  512.329200  "
      ]
     },
     "execution_count": 2,
     "metadata": {},
     "output_type": "execute_result"
    }
   ],
   "source": [
    "# load input\n",
    "train_data = pd.read_csv(\"/kaggle/input/titanic/train.csv\")\n",
    "test_data = pd.read_csv(\"/kaggle/input/titanic/test.csv\")\n",
    "\n",
    "# train_data.head()\n",
    "train_data.describe()"
   ]
  },
  {
   "cell_type": "code",
   "execution_count": 3,
   "id": "c273039d",
   "metadata": {
    "execution": {
     "iopub.execute_input": "2022-01-23T05:37:03.841124Z",
     "iopub.status.busy": "2022-01-23T05:37:03.840490Z",
     "iopub.status.idle": "2022-01-23T05:37:05.485989Z",
     "shell.execute_reply": "2022-01-23T05:37:05.485341Z",
     "shell.execute_reply.started": "2022-01-23T05:29:31.277002Z"
    },
    "papermill": {
     "duration": 1.657321,
     "end_time": "2022-01-23T05:37:05.486129",
     "exception": false,
     "start_time": "2022-01-23T05:37:03.828808",
     "status": "completed"
    },
    "tags": []
   },
   "outputs": [
    {
     "data": {
      "text/plain": [
       "0.7937219730941704"
      ]
     },
     "execution_count": 3,
     "metadata": {},
     "output_type": "execute_result"
    }
   ],
   "source": [
    "# Try different things\n",
    "from sklearn.model_selection import train_test_split\n",
    "from sklearn.metrics import mean_absolute_error\n",
    "from sklearn.metrics import accuracy_score\n",
    "from sklearn.ensemble import RandomForestClassifier\n",
    "\n",
    "y = train_data['Survived']\n",
    "features = ['Pclass', 'Sex', 'SibSp', 'Parch']\n",
    "X = pd.get_dummies(train_data[features])\n",
    "\n",
    "train_X, val_X, train_y, val_y = train_test_split(X, y, random_state=2)\n",
    "model = RandomForestClassifier(n_estimators=200, max_depth=3, random_state=1, min_samples_leaf=5)\n",
    "model.fit(train_X, train_y)\n",
    "predictions = model.predict(val_X)\n",
    "accuracy_score(val_y, predictions)"
   ]
  },
  {
   "cell_type": "code",
   "execution_count": 4,
   "id": "0d3caa56",
   "metadata": {
    "execution": {
     "iopub.execute_input": "2022-01-23T05:37:05.513848Z",
     "iopub.status.busy": "2022-01-23T05:37:05.513124Z",
     "iopub.status.idle": "2022-01-23T05:37:05.924573Z",
     "shell.execute_reply": "2022-01-23T05:37:05.925070Z"
    },
    "papermill": {
     "duration": 0.429674,
     "end_time": "2022-01-23T05:37:05.925239",
     "exception": false,
     "start_time": "2022-01-23T05:37:05.495565",
     "status": "completed"
    },
    "tags": []
   },
   "outputs": [
    {
     "name": "stdout",
     "output_type": "stream",
     "text": [
      "Your submission was successfully saved!\n"
     ]
    }
   ],
   "source": [
    "# try model with all data and submit\n",
    "model = RandomForestClassifier(n_estimators=200, max_depth=3, random_state=1, min_samples_leaf=5)\n",
    "model.fit(X, y)\n",
    "x_test = pd.get_dummies(test_data[features])\n",
    "predictions = model.predict(x_test)\n",
    "output = pd.DataFrame({'PassengerId': test_data.PassengerId, 'Survived': predictions})\n",
    "output.to_csv('submission.csv', index=False)\n",
    "print('Your submission was successfully saved!')"
   ]
  },
  {
   "cell_type": "code",
   "execution_count": null,
   "id": "c54b73e8",
   "metadata": {
    "papermill": {
     "duration": 0.009756,
     "end_time": "2022-01-23T05:37:05.946752",
     "exception": false,
     "start_time": "2022-01-23T05:37:05.936996",
     "status": "completed"
    },
    "tags": []
   },
   "outputs": [],
   "source": []
  },
  {
   "cell_type": "code",
   "execution_count": null,
   "id": "eefde261",
   "metadata": {
    "execution": {
     "iopub.execute_input": "2022-01-23T05:35:27.385522Z",
     "iopub.status.busy": "2022-01-23T05:35:27.385231Z",
     "iopub.status.idle": "2022-01-23T05:35:27.818750Z",
     "shell.execute_reply": "2022-01-23T05:35:27.817886Z",
     "shell.execute_reply.started": "2022-01-23T05:35:27.385492Z"
    },
    "papermill": {
     "duration": 0.00978,
     "end_time": "2022-01-23T05:37:05.966519",
     "exception": false,
     "start_time": "2022-01-23T05:37:05.956739",
     "status": "completed"
    },
    "tags": []
   },
   "outputs": [],
   "source": []
  },
  {
   "cell_type": "code",
   "execution_count": null,
   "id": "ee238b11",
   "metadata": {
    "execution": {
     "iopub.execute_input": "2022-01-23T02:54:37.489593Z",
     "iopub.status.busy": "2022-01-23T02:54:37.489268Z",
     "iopub.status.idle": "2022-01-23T02:54:37.494926Z",
     "shell.execute_reply": "2022-01-23T02:54:37.494154Z",
     "shell.execute_reply.started": "2022-01-23T02:54:37.489558Z"
    },
    "papermill": {
     "duration": 0.0094,
     "end_time": "2022-01-23T05:37:05.985870",
     "exception": false,
     "start_time": "2022-01-23T05:37:05.976470",
     "status": "completed"
    },
    "tags": []
   },
   "outputs": [],
   "source": []
  },
  {
   "cell_type": "code",
   "execution_count": null,
   "id": "f0ab6a9a",
   "metadata": {
    "papermill": {
     "duration": 0.009814,
     "end_time": "2022-01-23T05:37:06.005651",
     "exception": false,
     "start_time": "2022-01-23T05:37:05.995837",
     "status": "completed"
    },
    "tags": []
   },
   "outputs": [],
   "source": []
  },
  {
   "cell_type": "code",
   "execution_count": null,
   "id": "f84d0864",
   "metadata": {
    "papermill": {
     "duration": 0.00957,
     "end_time": "2022-01-23T05:37:06.025209",
     "exception": false,
     "start_time": "2022-01-23T05:37:06.015639",
     "status": "completed"
    },
    "tags": []
   },
   "outputs": [],
   "source": []
  }
 ],
 "metadata": {
  "kernelspec": {
   "display_name": "Python 3",
   "language": "python",
   "name": "python3"
  },
  "language_info": {
   "codemirror_mode": {
    "name": "ipython",
    "version": 3
   },
   "file_extension": ".py",
   "mimetype": "text/x-python",
   "name": "python",
   "nbconvert_exporter": "python",
   "pygments_lexer": "ipython3",
   "version": "3.7.12"
  },
  "papermill": {
   "default_parameters": {},
   "duration": 13.019829,
   "end_time": "2022-01-23T05:37:06.745920",
   "environment_variables": {},
   "exception": null,
   "input_path": "__notebook__.ipynb",
   "output_path": "__notebook__.ipynb",
   "parameters": {},
   "start_time": "2022-01-23T05:36:53.726091",
   "version": "2.3.3"
  }
 },
 "nbformat": 4,
 "nbformat_minor": 5
}
